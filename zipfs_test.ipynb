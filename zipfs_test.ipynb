{
 "cells": [
  {
   "cell_type": "code",
   "execution_count": 1,
   "id": "b0dd69b4-bd9c-466d-8b62-da7f5c8fc9e7",
   "metadata": {},
   "outputs": [],
   "source": [
    "# dependencies\n",
    "import numpy as np\n",
    "from matplotlib import pyplot as plt\n",
    "import pandas as pd\n",
    "import os\n",
    "import re"
   ]
  },
  {
   "cell_type": "code",
   "execution_count": 2,
   "id": "bc3418ea-2f84-4177-ab32-f49d3981fbd2",
   "metadata": {},
   "outputs": [
    {
     "name": "stdout",
     "output_type": "stream",
     "text": [
      "1.txt  2_jay.txt  3_jay.txt  4_jay.txt\t5_jay.txt\n"
     ]
    }
   ],
   "source": [
    "!ls /mnt/c/users/jason/documents/fed_papers"
   ]
  },
  {
   "cell_type": "code",
   "execution_count": 3,
   "id": "49b60cc3-ac8b-47f5-9eb6-0df435957c19",
   "metadata": {},
   "outputs": [
    {
     "data": {
      "text/plain": [
       "5"
      ]
     },
     "execution_count": 3,
     "metadata": {},
     "output_type": "execute_result"
    }
   ],
   "source": [
    "WORK_DIR = '/mnt/c/users/jason/documents/fed_papers'\n",
    "len(os.listdir(WORK_DIR))"
   ]
  },
  {
   "cell_type": "code",
   "execution_count": 4,
   "id": "2f687d3c-90de-4b58-b4a1-d6458fbeafa4",
   "metadata": {},
   "outputs": [],
   "source": [
    "words = {}\n",
    "def extract(words):\n",
    "    for file in os.listdir(WORK_DIR):\n",
    "        paper = open(f'{WORK_DIR}/{file}')\n",
    "        for line in paper.readlines():\n",
    "            for word in line.split():\n",
    "                lower = word.lower()\n",
    "                cleaned = re.sub(r'[^\\w\\s]','',lower)\n",
    "                if cleaned in words:\n",
    "                    words[cleaned] += 1\n",
    "                else:\n",
    "                    words[cleaned] = 1\n",
    "        paper.close()\n",
    "    return words\n",
    "extract(words)\n",
    "\n",
    "words_ordered = dict(sorted(words.items(), key=lambda item: item[1], reverse=True))"
   ]
  },
  {
   "cell_type": "code",
   "execution_count": 20,
   "id": "eb989ad0-4c7f-46d9-b1eb-093660d55cb6",
   "metadata": {},
   "outputs": [
    {
     "data": {
      "text/plain": [
       "Text(0, 0.5, 'Frequency (log scale)')"
      ]
     },
     "execution_count": 20,
     "metadata": {},
     "output_type": "execute_result"
    },
    {
     "data": {
      "image/png": "[encoded data removed]",
      "text/plain": [
       "<Figure size 720x432 with 1 Axes>"
      ]
     },
     "metadata": {
      "needs_background": "light"
     },
     "output_type": "display_data"
    }
   ],
   "source": [
    "rank = np.arange(1, len(words_ordered) + 1)\n",
    "frequency = list(words_ordered.values())\n",
    "inital = max(frequency)\n",
    "\n",
    "alpha = 1\n",
    "beta = 0\n",
    "\n",
    "zipf = [inital/(r+beta)**alpha for r in rank]\n",
    "\n",
    "plt.figure(figsize=(10, 6))\n",
    "plt.loglog(rank, frequency, marker='.', linestyle='', label=\"Frequency Rank vs. Frequency\")\n",
    "plt.loglog(rank, zipf, label=\"Zipf Distribution\", color='red')\n",
    "plt.title(\"Frequency Rank vs. Frequency\")\n",
    "plt.xlabel(\"Rank (log scale)\")\n",
    "plt.ylabel(\"Frequency (log scale)\")"
   ]
  },
  {
   "cell_type": "code",
   "execution_count": 6,
   "id": "cbc6ee0c-41e6-49aa-94fd-40007c9b5917",
   "metadata": {},
   "outputs": [],
   "source": [
    "df = pd.DataFrame(words_ordered.items(), columns=['Word', 'Instances'])"
   ]
  },
  {
   "cell_type": "code",
   "execution_count": 7,
   "id": "e5ed582c-336d-41bf-b9cd-3906144d67a4",
   "metadata": {},
   "outputs": [
    {
     "data": {
      "text/html": [
       "<div>\n",
       "<style scoped>\n",
       "    .dataframe tbody tr th:only-of-type {\n",
       "        vertical-align: middle;\n",
       "    }\n",
       "\n",
       "    .dataframe tbody tr th {\n",
       "        vertical-align: top;\n",
       "    }\n",
       "\n",
       "    .dataframe thead th {\n",
       "        text-align: right;\n",
       "    }\n",
       "</style>\n",
       "<table border=\"1\" class=\"dataframe\">\n",
       "  <thead>\n",
       "    <tr style=\"text-align: right;\">\n",
       "      <th></th>\n",
       "      <th>Word</th>\n",
       "      <th>Instances</th>\n",
       "    </tr>\n",
       "  </thead>\n",
       "  <tbody>\n",
       "    <tr>\n",
       "      <th>0</th>\n",
       "      <td>the</td>\n",
       "      <td>476</td>\n",
       "    </tr>\n",
       "    <tr>\n",
       "      <th>1</th>\n",
       "      <td>of</td>\n",
       "      <td>371</td>\n",
       "    </tr>\n",
       "    <tr>\n",
       "      <th>2</th>\n",
       "      <td>and</td>\n",
       "      <td>345</td>\n",
       "    </tr>\n",
       "    <tr>\n",
       "      <th>3</th>\n",
       "      <td>to</td>\n",
       "      <td>274</td>\n",
       "    </tr>\n",
       "    <tr>\n",
       "      <th>4</th>\n",
       "      <td>in</td>\n",
       "      <td>137</td>\n",
       "    </tr>\n",
       "    <tr>\n",
       "      <th>...</th>\n",
       "      <td>...</td>\n",
       "      <td>...</td>\n",
       "    </tr>\n",
       "    <tr>\n",
       "      <th>1688</th>\n",
       "      <td>allies</td>\n",
       "      <td>1</td>\n",
       "    </tr>\n",
       "    <tr>\n",
       "      <th>1689</th>\n",
       "      <td>innovations</td>\n",
       "      <td>1</td>\n",
       "    </tr>\n",
       "    <tr>\n",
       "      <th>1690</th>\n",
       "      <td>character</td>\n",
       "      <td>1</td>\n",
       "    </tr>\n",
       "    <tr>\n",
       "      <th>1691</th>\n",
       "      <td>introduce</td>\n",
       "      <td>1</td>\n",
       "    </tr>\n",
       "    <tr>\n",
       "      <th>1692</th>\n",
       "      <td>interference</td>\n",
       "      <td>1</td>\n",
       "    </tr>\n",
       "  </tbody>\n",
       "</table>\n",
       "<p>1693 rows × 2 columns</p>\n",
       "</div>"
      ],
      "text/plain": [
       "              Word  Instances\n",
       "0              the        476\n",
       "1               of        371\n",
       "2              and        345\n",
       "3               to        274\n",
       "4               in        137\n",
       "...            ...        ...\n",
       "1688        allies          1\n",
       "1689   innovations          1\n",
       "1690     character          1\n",
       "1691     introduce          1\n",
       "1692  interference          1\n",
       "\n",
       "[1693 rows x 2 columns]"
      ]
     },
     "execution_count": 7,
     "metadata": {},
     "output_type": "execute_result"
    }
   ],
   "source": [
    "df"
   ]
  },
  {
   "cell_type": "code",
   "execution_count": null,
   "id": "5094f02f-a685-47dd-968f-8ba30896f1a8",
   "metadata": {},
   "outputs": [],
   "source": [
    "    "
   ]
  }
 ],
 "metadata": {
  "kernelspec": {
   "display_name": "Python 3 (ipykernel)",
   "language": "python",
   "name": "python3"
  },
  "language_info": {
   "codemirror_mode": {
    "name": "ipython",
    "version": 3
   },
   "file_extension": ".py",
   "mimetype": "text/x-python",
   "name": "python",
   "nbconvert_exporter": "python",
   "pygments_lexer": "ipython3",
   "version": "3.10.12"
  }
 },
 "nbformat": 4,
 "nbformat_minor": 5
}
