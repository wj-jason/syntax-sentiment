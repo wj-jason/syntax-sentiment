{
 "cells": [
  {
   "cell_type": "code",
   "execution_count": 3,
   "id": "7055c18e-5092-4796-85ee-85f59fc4b5fc",
   "metadata": {},
   "outputs": [
    {
     "name": "stdout",
     "output_type": "stream",
     "text": [
      "NMC268_A3.ipynb  git_repos  ss_poc.ipynb\n"
     ]
    }
   ],
   "source": [
    "!ls /home/jason"
   ]
  },
  {
   "cell_type": "code",
   "execution_count": null,
   "id": "f8d5f80c-5116-44a7-b7eb-3e60f1800c87",
   "metadata": {},
   "outputs": [],
   "source": []
  }
 ],
 "metadata": {
  "kernelspec": {
   "display_name": "Python 3 (ipykernel)",
   "language": "python",
   "name": "python3"
  },
  "language_info": {
   "codemirror_mode": {
    "name": "ipython",
    "version": 3
   },
   "file_extension": ".py",
   "mimetype": "text/x-python",
   "name": "python",
   "nbconvert_exporter": "python",
   "pygments_lexer": "ipython3",
   "version": "3.10.12"
  }
 },
 "nbformat": 4,
 "nbformat_minor": 5
}
